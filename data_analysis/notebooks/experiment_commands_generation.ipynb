{
 "cells": [
  {
   "cell_type": "code",
   "execution_count": 724,
   "metadata": {},
   "outputs": [],
   "source": [
    "import numpy as np\n",
    "import pandas as pd"
   ]
  },
  {
   "cell_type": "code",
   "execution_count": null,
   "metadata": {},
   "outputs": [],
   "source": [
    "#Estimate session of 20 minutes:\n",
    "\n",
    "# 60*20 = 1200 seconds\n",
    "    \n",
    "# 6 categories, *repeats = 1200/9\n",
    "\n",
    "# cats*((cats*repeats)-repeats) = 1200/9\n",
    "\n",
    "1200/(9*30)"
   ]
  },
  {
   "cell_type": "code",
   "execution_count": null,
   "metadata": {},
   "outputs": [],
   "source": [
    "repeats = 5\n",
    "cats = 6"
   ]
  },
  {
   "cell_type": "code",
   "execution_count": 746,
   "metadata": {},
   "outputs": [
    {
     "name": "stdout",
     "output_type": "stream",
     "text": [
      "[0, 1, 2, 3, 4, 5, 0, 1, 2, 3, 4, 5, 0, 1, 2, 3, 4, 5, 0, 1, 2, 3, 4, 5, 0, 1, 2, 3, 4, 5]\n"
     ]
    }
   ],
   "source": [
    "sequence =[]\n",
    "sequence2 = [i for i in range(cats)]\n",
    "    \n",
    "for j in range(0,repeats):\n",
    "    sequence.extend(sequence2)\n",
    "\n",
    "print(sequence)"
   ]
  },
  {
   "cell_type": "code",
   "execution_count": 749,
   "metadata": {},
   "outputs": [
    {
     "name": "stdout",
     "output_type": "stream",
     "text": [
      "[[1. 4. 3. 5. 2. 3. 3. 3. 1. 5. 3. 4. 2. 5. 1. 2. 4. 2. 5. 2. 4. 5. 4. 1.\n",
      "  1.]\n",
      " [2. 2. 4. 5. 5. 0. 4. 2. 3. 0. 5. 5. 4. 2. 4. 2. 0. 3. 5. 4. 3. 3. 0. 0.\n",
      "  3.]\n",
      " [1. 5. 4. 4. 0. 1. 4. 1. 0. 0. 3. 5. 4. 3. 1. 1. 4. 5. 0. 3. 0. 5. 3. 5.\n",
      "  3.]\n",
      " [0. 2. 4. 1. 1. 1. 2. 2. 5. 4. 5. 2. 1. 5. 4. 2. 0. 5. 5. 0. 1. 4. 4. 0.\n",
      "  0.]\n",
      " [2. 5. 5. 5. 0. 3. 0. 0. 1. 1. 0. 2. 1. 5. 3. 3. 2. 2. 5. 0. 1. 1. 3. 2.\n",
      "  3.]\n",
      " [0. 4. 2. 3. 1. 1. 4. 4. 1. 0. 4. 0. 2. 0. 3. 3. 3. 0. 4. 2. 3. 2. 1. 1.\n",
      "  2.]]\n"
     ]
    }
   ],
   "source": [
    "import random\n",
    "\n",
    "a = np.zeros([cats,(cats*repeats)-repeats])\n",
    "\n",
    "#random.seed(4)\n",
    "\n",
    "for i in range(0,cats):\n",
    "    a[i] = [int(x) for x in sequence if x !=i]\n",
    "    random.shuffle(a[i])\n",
    "    \n",
    "print(a)\n",
    "#last column = [100] ,[101],[2,20],[1,2,0],[200],120\n",
    "# bad [1,21],221"
   ]
  },
  {
   "cell_type": "code",
   "execution_count": 750,
   "metadata": {},
   "outputs": [],
   "source": [
    "import numpy as np\n",
    "#array = np.array([[1,1,2,2],[0,0,2,2],[0,0,1,1]])\n",
    "array = a\n",
    "\n",
    "j = np.zeros([cats,(cats*repeats)-repeats])\n",
    "\n",
    "for i in range(0,cats):\n",
    "    j[i] = range(int(0),int((cats*repeats))-repeats) #,range(0,(cats*repeats)-repeats),range(0,(cats*repeats)-repeats)])\n",
    "\n",
    "l = np.zeros(cats)\n",
    "y = []\n",
    "\n",
    "c = int(array[0,int(j[0,0])])\n",
    "l[0]= l[0]+1\n",
    "y.append(c)\n",
    "\n",
    "cols =(cats*repeats)-repeats\n",
    "\n",
    "while not all(i == cols for i in l): \n",
    "    \n",
    "    k = int(int(l[c]))\n",
    "    l[c]= l[c]+1\n",
    "    \n",
    "    c = int(array[c,int(j[c,k])])\n",
    "    y.append(c)\n",
    "    \n",
    "#     print('------')\n",
    "#     print('counter',l)\n",
    "    \n"
   ]
  },
  {
   "cell_type": "code",
   "execution_count": 753,
   "metadata": {},
   "outputs": [],
   "source": [
    "y = [p+2 for p in y]"
   ]
  },
  {
   "cell_type": "code",
   "execution_count": 755,
   "metadata": {},
   "outputs": [],
   "source": [
    "#what frequency is the command, every 9 seconds +4\n",
    "\n",
    "t = np.linspace(0.0,(9*len(y)+6.0)-0.006,int((9*len(y)+6.0)/0.006))"
   ]
  },
  {
   "cell_type": "code",
   "execution_count": 756,
   "metadata": {},
   "outputs": [],
   "source": [
    "import pandas as pd\n",
    "t = pd.Series(np.round(t,3))\n",
    "df = pd.DataFrame({'t':t})"
   ]
  },
  {
   "cell_type": "code",
   "execution_count": 757,
   "metadata": {},
   "outputs": [],
   "source": [
    "z = np.zeros(len(t))\n",
    "k=0\n",
    "i = 0\n",
    "\n",
    "for time_point in df.t:\n",
    "    if time_point%9 == 6:\n",
    "        z[i] = y[k]\n",
    "        k=k+1\n",
    "        #print('yes')\n",
    "    else:\n",
    "        z[i] = 0.0\n",
    "    i=i+1"
   ]
  },
  {
   "cell_type": "code",
   "execution_count": 758,
   "metadata": {},
   "outputs": [],
   "source": [
    "df['command'] = z"
   ]
  },
  {
   "cell_type": "code",
   "execution_count": 759,
   "metadata": {},
   "outputs": [
    {
     "data": {
      "text/html": [
       "<div>\n",
       "<style scoped>\n",
       "    .dataframe tbody tr th:only-of-type {\n",
       "        vertical-align: middle;\n",
       "    }\n",
       "\n",
       "    .dataframe tbody tr th {\n",
       "        vertical-align: top;\n",
       "    }\n",
       "\n",
       "    .dataframe thead th {\n",
       "        text-align: right;\n",
       "    }\n",
       "</style>\n",
       "<table border=\"1\" class=\"dataframe\">\n",
       "  <thead>\n",
       "    <tr style=\"text-align: right;\">\n",
       "      <th></th>\n",
       "      <th>t</th>\n",
       "      <th>command</th>\n",
       "    </tr>\n",
       "  </thead>\n",
       "  <tbody>\n",
       "    <tr>\n",
       "      <th>1000</th>\n",
       "      <td>6.0</td>\n",
       "      <td>3.0</td>\n",
       "    </tr>\n",
       "    <tr>\n",
       "      <th>2500</th>\n",
       "      <td>15.0</td>\n",
       "      <td>4.0</td>\n",
       "    </tr>\n",
       "    <tr>\n",
       "      <th>4000</th>\n",
       "      <td>24.0</td>\n",
       "      <td>3.0</td>\n",
       "    </tr>\n",
       "    <tr>\n",
       "      <th>5500</th>\n",
       "      <td>33.0</td>\n",
       "      <td>4.0</td>\n",
       "    </tr>\n",
       "    <tr>\n",
       "      <th>7000</th>\n",
       "      <td>42.0</td>\n",
       "      <td>7.0</td>\n",
       "    </tr>\n",
       "    <tr>\n",
       "      <th>...</th>\n",
       "      <td>...</td>\n",
       "      <td>...</td>\n",
       "    </tr>\n",
       "    <tr>\n",
       "      <th>218500</th>\n",
       "      <td>1311.0</td>\n",
       "      <td>3.0</td>\n",
       "    </tr>\n",
       "    <tr>\n",
       "      <th>220000</th>\n",
       "      <td>1320.0</td>\n",
       "      <td>2.0</td>\n",
       "    </tr>\n",
       "    <tr>\n",
       "      <th>221500</th>\n",
       "      <td>1329.0</td>\n",
       "      <td>3.0</td>\n",
       "    </tr>\n",
       "    <tr>\n",
       "      <th>223000</th>\n",
       "      <td>1338.0</td>\n",
       "      <td>5.0</td>\n",
       "    </tr>\n",
       "    <tr>\n",
       "      <th>224500</th>\n",
       "      <td>1347.0</td>\n",
       "      <td>2.0</td>\n",
       "    </tr>\n",
       "  </tbody>\n",
       "</table>\n",
       "<p>150 rows × 2 columns</p>\n",
       "</div>"
      ],
      "text/plain": [
       "             t  command\n",
       "1000       6.0      3.0\n",
       "2500      15.0      4.0\n",
       "4000      24.0      3.0\n",
       "5500      33.0      4.0\n",
       "7000      42.0      7.0\n",
       "...        ...      ...\n",
       "218500  1311.0      3.0\n",
       "220000  1320.0      2.0\n",
       "221500  1329.0      3.0\n",
       "223000  1338.0      5.0\n",
       "224500  1347.0      2.0\n",
       "\n",
       "[150 rows x 2 columns]"
      ]
     },
     "execution_count": 759,
     "metadata": {},
     "output_type": "execute_result"
    }
   ],
   "source": [
    "df[df.command>0]"
   ]
  },
  {
   "cell_type": "code",
   "execution_count": 679,
   "metadata": {},
   "outputs": [
    {
     "data": {
      "text/plain": [
       "1200"
      ]
     },
     "execution_count": 679,
     "metadata": {},
     "output_type": "execute_result"
    }
   ],
   "source": [
    "#Estimate session of 20 minutes:\n",
    "\n",
    "# 60*20 = 1200 seconds\n",
    "    \n",
    "# 6 categories, *repeats = 1200/9\n",
    "\n",
    "1200/(9*30)"
   ]
  }
 ],
 "metadata": {
  "kernelspec": {
   "display_name": "Python 3",
   "language": "python",
   "name": "python3"
  },
  "language_info": {
   "codemirror_mode": {
    "name": "ipython",
    "version": 3
   },
   "file_extension": ".py",
   "mimetype": "text/x-python",
   "name": "python",
   "nbconvert_exporter": "python",
   "pygments_lexer": "ipython3",
   "version": "3.7.4"
  }
 },
 "nbformat": 4,
 "nbformat_minor": 4
}
